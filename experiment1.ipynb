{
    "cells": [
        {
            "cell_type": "code",
            "execution_count": 17,
            "source": [
                "import numpy as np"
            ],
            "outputs": [],
            "metadata": {}
        },
        {
            "cell_type": "code",
            "execution_count": 19,
            "source": [
                "from scipy.stats import multivariate_normal as mvn"
            ],
            "outputs": [],
            "metadata": {}
        },
        {
            "cell_type": "code",
            "execution_count": 34,
            "source": [
                "from tools import methons\r\n",
                "methons.debug()"
            ],
            "outputs": [
                {
                    "output_type": "execute_result",
                    "data": {
                        "text/plain": [
                            "(array([3. , 5.5]),\n",
                            " array([[ 8. , 14. ],\n",
                            "        [14. , 24.5]]))"
                        ]
                    },
                    "metadata": {},
                    "execution_count": 34
                }
            ],
            "metadata": {}
        },
        {
            "cell_type": "code",
            "execution_count": 16,
            "source": [
                "norm.pdf(a,mean,cov_mat)"
            ],
            "outputs": [
                {
                    "output_type": "execute_result",
                    "data": {
                        "text/plain": [
                            "array([[0.48394145, 0.48394145, 0.48394145, 0.48394145, 0.48394145,\n",
                            "        0.48394145],\n",
                            "       [0.48394145, 0.48394145, 0.48394145, 0.48394145, 0.48394145,\n",
                            "        0.48394145],\n",
                            "       [0.48394145, 0.48394145, 0.48394145, 0.48394145, 0.48394145,\n",
                            "        0.48394145],\n",
                            "       [0.48394145, 0.48394145, 0.48394145, 0.48394145, 0.48394145,\n",
                            "        0.48394145],\n",
                            "       [0.48394145, 0.48394145, 0.48394145, 0.48394145, 0.48394145,\n",
                            "        0.48394145],\n",
                            "       [0.48394145, 0.48394145, 0.48394145, 0.48394145, 0.48394145,\n",
                            "        0.48394145]])"
                        ]
                    },
                    "metadata": {},
                    "execution_count": 16
                }
            ],
            "metadata": {}
        }
    ],
    "metadata": {
        "orig_nbformat": 4,
        "language_info": {
            "name": "python",
            "version": "3.9.1",
            "mimetype": "text/x-python",
            "codemirror_mode": {
                "name": "ipython",
                "version": 3
            },
            "pygments_lexer": "ipython3",
            "nbconvert_exporter": "python",
            "file_extension": ".py"
        },
        "kernelspec": {
            "name": "python3",
            "display_name": "Python 3.9.1 64-bit ('base': conda)"
        },
        "interpreter": {
            "hash": "bd0568d8647bfe2c5b59c81f47863eb65b413eeef312764b5149d804a4a00697"
        }
    },
    "nbformat": 4,
    "nbformat_minor": 2
}