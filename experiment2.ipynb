{
    "cells": [
        {
            "cell_type": "code",
            "execution_count": 5,
            "source": [
                "from sklearn.datasets import load_iris\r\n",
                "from tools import model,methons\r\n",
                "import pandas as pd\r\n",
                "from tqdm.notebook import tqdm\r\n",
                "import numpy as np\r\n",
                "from sklearn.model_selection import StratifiedShuffleSplit\r\n",
                "from sklearn.metrics import accuracy_score,f1_score"
            ],
            "outputs": [],
            "metadata": {}
        },
        {
            "cell_type": "code",
            "execution_count": 2,
            "source": [
                "raw_data = load_iris()\r\n",
                "features = raw_data.data\r\n",
                "targets = raw_data.target\r\n",
                "data_count = targets.size\r\n",
                "feature_names = raw_data.feature_names\r\n",
                "target_names = raw_data.target_names.tolist()\r\n"
            ],
            "outputs": [],
            "metadata": {}
        },
        {
            "cell_type": "code",
            "execution_count": 3,
            "source": [
                "base_results = []\r\n",
                "for train_size in tqdm(range(len(target_names), data_count - 1, len(target_names))):\r\n",
                "    sss = StratifiedShuffleSplit(n_splits=100, train_size=train_size, random_state=42)\r\n",
                "    for train_idx, test_idx in sss.split(features, targets):\r\n",
                "        train_features, train_targets = features[train_idx], targets[train_idx]\r\n",
                "        test_features, test_targets = features[test_idx], targets[test_idx]\r\n",
                "        ds = model.DSmodel(train_features, train_targets, feature_names, target_names)\r\n",
                "        pred_targets = []\r\n",
                "        for test_feature in test_features:\r\n",
                "            rst, rsts = ds.predict(test_feature, methon=methons.base_methon)\r\n",
                "            pred_targets.append(rst.argmax())\r\n",
                "        base_results.append(\r\n",
                "            [\r\n",
                "                len(train_targets),\r\n",
                "                accuracy_score(pred_targets, test_targets),\r\n",
                "                f1_score(pred_targets, test_targets, average=\"macro\"),\r\n",
                "            ]\r\n",
                "        )\r\n",
                "base_results = np.asarray(base_results)\r\n",
                "np.save(\"output/experiment2/base_results\", base_results)\r\n",
                "print(base_results)\r\n"
            ],
            "outputs": [
                {
                    "output_type": "display_data",
                    "data": {
                        "text/plain": [
                            "HBox(children=(HTML(value=''), FloatProgress(value=0.0, max=49.0), HTML(value='')))"
                        ],
                        "application/vnd.jupyter.widget-view+json": {
                            "version_major": 2,
                            "version_minor": 0,
                            "model_id": "b68fe5ef3dbe4121992380ba6fdead7a"
                        }
                    },
                    "metadata": {}
                },
                {
                    "output_type": "stream",
                    "name": "stdout",
                    "text": [
                        "\n",
                        "[[  3.           0.82993197   0.82146957]\n",
                        " [  3.           0.75510204   0.7541806 ]\n",
                        " [  3.           0.91836735   0.91787842]\n",
                        " ...\n",
                        " [147.           1.           1.        ]\n",
                        " [147.           1.           1.        ]\n",
                        " [147.           1.           1.        ]]\n"
                    ]
                }
            ],
            "metadata": {}
        },
        {
            "cell_type": "code",
            "execution_count": 4,
            "source": [
                "methon_qky_results = []\r\n",
                "for train_size in tqdm(range(len(target_names), data_count - 1, len(target_names))):\r\n",
                "    sss = StratifiedShuffleSplit(n_splits=100, train_size=train_size, random_state=42)\r\n",
                "    for train_idx, test_idx in sss.split(features, targets):\r\n",
                "        train_features, train_targets = features[train_idx], targets[train_idx]\r\n",
                "        test_features, test_targets = features[test_idx], targets[test_idx]\r\n",
                "        ds = model.DSmodel(train_features, train_targets, feature_names, target_names)\r\n",
                "        pred_targets = []\r\n",
                "        for test_feature in test_features:\r\n",
                "            rst, rsts = ds.predict(test_feature, methon=methons.methon_qky)\r\n",
                "            pred_targets.append(rst.argmax())\r\n",
                "        methon_qky_results.append(\r\n",
                "            [\r\n",
                "                len(train_targets),\r\n",
                "                accuracy_score(pred_targets, test_targets),\r\n",
                "                f1_score(pred_targets, test_targets, average=\"macro\"),\r\n",
                "            ]\r\n",
                "        )\r\n",
                "methon_qky_results = np.asarray(methon_qky_results)\r\n",
                "np.save(\"output/experiment2/methon_qky_results\", methon_qky_results)\r\n",
                "print(methon_qky_results)\r\n"
            ],
            "outputs": [
                {
                    "output_type": "display_data",
                    "data": {
                        "text/plain": [
                            "HBox(children=(HTML(value=''), FloatProgress(value=0.0, max=49.0), HTML(value='')))"
                        ],
                        "application/vnd.jupyter.widget-view+json": {
                            "version_major": 2,
                            "version_minor": 0,
                            "model_id": "e98ff3d1474747329d504ddfa1d48bd9"
                        }
                    },
                    "metadata": {}
                },
                {
                    "output_type": "stream",
                    "name": "stdout",
                    "text": [
                        "\n",
                        "[[  3.           0.83673469   0.82631812]\n",
                        " [  3.           0.56462585   0.55555556]\n",
                        " [  3.           0.89795918   0.89786347]\n",
                        " ...\n",
                        " [147.           1.           1.        ]\n",
                        " [147.           1.           1.        ]\n",
                        " [147.           1.           1.        ]]\n"
                    ]
                }
            ],
            "metadata": {}
        },
        {
            "cell_type": "code",
            "execution_count": null,
            "source": [
                "methon_mine_results = []\r\n",
                "for train_size in tqdm(range(len(target_names), data_count - 1, len(target_names))):\r\n",
                "    sss = StratifiedShuffleSplit(n_splits=100, train_size=train_size, random_state=42)\r\n",
                "    for train_idx, test_idx in sss.split(features, targets):\r\n",
                "        train_features, train_targets = features[train_idx], targets[train_idx]\r\n",
                "        test_features, test_targets = features[test_idx], targets[test_idx]\r\n",
                "        ds = model.DSmodel(train_features, train_targets, feature_names, target_names)\r\n",
                "        pred_targets = []\r\n",
                "        for test_feature in test_features:\r\n",
                "            rst, rsts = ds.predict(test_feature, methon=methons.methon_mine)\r\n",
                "            pred_targets.append(rst.argmax())\r\n",
                "        methon_mine_results.append(\r\n",
                "            [\r\n",
                "                len(train_targets),\r\n",
                "                accuracy_score(pred_targets, test_targets),\r\n",
                "                f1_score(pred_targets, test_targets, average=\"macro\"),\r\n",
                "            ]\r\n",
                "        )\r\n",
                "methon_mine_results = np.asarray(methon_mine_results)\r\n",
                "np.save(\"output/experiment2/mine_results_1\", methon_mine_results)\r\n",
                "print(methon_mine_results)\r\n"
            ],
            "outputs": [],
            "metadata": {}
        }
    ],
    "metadata": {
        "orig_nbformat": 4,
        "language_info": {
            "name": "python",
            "version": "3.9.1"
        },
        "kernelspec": {
            "name": "python3",
            "display_name": "Python 3.9.1 64-bit ('base': conda)"
        },
        "interpreter": {
            "hash": "bd0568d8647bfe2c5b59c81f47863eb65b413eeef312764b5149d804a4a00697"
        }
    },
    "nbformat": 4,
    "nbformat_minor": 2
}